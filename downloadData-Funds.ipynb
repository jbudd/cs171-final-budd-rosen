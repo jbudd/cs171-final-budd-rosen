{
 "metadata": {
  "name": ""
 },
 "nbformat": 3,
 "nbformat_minor": 0,
 "worksheets": [
  {
   "cells": [
    {
     "cell_type": "code",
     "collapsed": false,
     "input": [
      "import time\n",
      "import json\n",
      "import requests"
     ],
     "language": "python",
     "metadata": {},
     "outputs": [],
     "prompt_number": 1
    },
    {
     "cell_type": "code",
     "collapsed": false,
     "input": [
      "api_key = 'ctktxtnda6vdq6rzwwrcyt6n'"
     ],
     "language": "python",
     "metadata": {},
     "outputs": [],
     "prompt_number": 2
    },
    {
     "cell_type": "code",
     "collapsed": false,
     "input": [
      "def entities_api(api_key, entity):\n",
      "    return 'http://api.crunchbase.com/v/1/%s.js?&api_key=%s' % (entity, api_key)\n",
      "\n",
      "# print entities_api(api_key, 'financial-organizations')"
     ],
     "language": "python",
     "metadata": {},
     "outputs": [],
     "prompt_number": 3
    },
    {
     "cell_type": "code",
     "collapsed": false,
     "input": [
      "def entity_api(api_key, entity, permalink):\n",
      "    return 'http://api.crunchbase.com/v/1/%s/%s.js?api_key=%s' % (entity, permalink, api_key)\n",
      "\n",
      "# print entity_api(api_key, 'financial-organization', 'cthulhu-ventures')"
     ],
     "language": "python",
     "metadata": {},
     "outputs": [],
     "prompt_number": 4
    },
    {
     "cell_type": "code",
     "collapsed": false,
     "input": [
      "def set_version(name, filetype):\n",
      "    return '%s_%s.%s' % (name, time.strftime('%Y-%m-%d-%H-%M-%S'), filetype)\n",
      "\n",
      "# print set_version('allFirms', 'json')"
     ],
     "language": "python",
     "metadata": {},
     "outputs": [],
     "prompt_number": 5
    },
    {
     "cell_type": "code",
     "collapsed": false,
     "input": [
      "##########\n",
      "# this cell takes a long time to run\n",
      "# use local file\n",
      "##########\n",
      "\n",
      "# all_firms_data = requests.get(entities_api(api_key, 'companies')).text\n",
      "# all_firms_data = json.loads(all_compnay_data)\n",
      "\n",
      "# with open(set_version('allFirmsList', 'json'), 'w') as outfile:\n",
      "#     json.dump(all_firms_data, outfile)"
     ],
     "language": "python",
     "metadata": {},
     "outputs": [],
     "prompt_number": 6
    },
    {
     "cell_type": "code",
     "collapsed": false,
     "input": [
      "# this cell loads the local JSON file of all the financial organizations in the Crunchbase database\n",
      "# the data is current as of 2014-04-05 at 3:01pm \n",
      "\n",
      "json_data = open('allFirmsList_2014-04-05-15-01-18.json')\n",
      "all_firms_data = json.load(json_data)\n",
      "json_data.close()\n",
      "\n",
      "# print all_firms_data[1]"
     ],
     "language": "python",
     "metadata": {},
     "outputs": [],
     "prompt_number": 7
    },
    {
     "cell_type": "code",
     "collapsed": false,
     "input": [
      "print 'There are %d total firms in the CrunchBase database' % len(all_firms_data)"
     ],
     "language": "python",
     "metadata": {},
     "outputs": [
      {
       "output_type": "stream",
       "stream": "stdout",
       "text": [
        "There are 14567 total firms in the CrunchBase database\n"
       ]
      }
     ],
     "prompt_number": 8
    },
    {
     "cell_type": "code",
     "collapsed": false,
     "input": [
      "def fetch_all_data_generator(data):\n",
      "    for company in data:\n",
      "        yield requests.get(entity_api(api_key, 'financial-organization', company['permalink'])).text"
     ],
     "language": "python",
     "metadata": {},
     "outputs": [],
     "prompt_number": 9
    },
    {
     "cell_type": "code",
     "collapsed": false,
     "input": [
      "def fetch_all_data(data, start, end, verbose=0):\n",
      "    if verbose >= 1:\n",
      "        print time.strftime('%H:%M:%S')\n",
      "    data = data[start:end]\n",
      "    outfile = open(set_version('allFirms', 'json'), 'w')\n",
      "    outfile.write('[')\n",
      "    for company_data in fetch_all_data_generator(data): \n",
      "        try:\n",
      "            company = json.loads(company_data)\n",
      "            company_out = {\n",
      "                            'name':company['name'],\n",
      "                            'permalink':company['permalink'],\n",
      "                            'crunchbase_url':company['crunchbase_url'],\n",
      "                            'website':company['homepage_url'],\n",
      "                            'founded_year':company['founded_year'],\n",
      "                            'description':company['description'],\n",
      "                            'investments':company['investments'],\n",
      "                            'funds':company['funds']\n",
      "                          }\n",
      "            json.dump(company_out, outfile)\n",
      "            outfile.write(',')\n",
      "        except:\n",
      "            if verbose >= 2:\n",
      "                print company_data        \n",
      "    outfile.seek(-1, 1)\n",
      "    outfile.truncate()\n",
      "    outfile.write(']')\n",
      "    outfile.close()\n",
      "    if verbose >= 1:\n",
      "        print time.strftime('%H:%M:%S')\n",
      "    return"
     ],
     "language": "python",
     "metadata": {},
     "outputs": [],
     "prompt_number": 10
    },
    {
     "cell_type": "code",
     "collapsed": false,
     "input": [
      "##########\n",
      "# this cell takes a long time to run\n",
      "# use local file\n",
      "##########\n",
      "\n",
      "# fetch_all_data(all_firms_data, start=0, end=500, verbose=1)"
     ],
     "language": "python",
     "metadata": {},
     "outputs": [],
     "prompt_number": 11
    },
    {
     "cell_type": "code",
     "collapsed": false,
     "input": [
      "# this cell loads the local JSON file of all the data on financial organizations we downloaded\n",
      "# the data is current as of _____\n",
      "\n",
      "json_data = open('allFirms_test.json')\n",
      "results = json.load(json_data)\n",
      "json_data.close() "
     ],
     "language": "python",
     "metadata": {},
     "outputs": [],
     "prompt_number": 12
    },
    {
     "cell_type": "code",
     "collapsed": false,
     "input": [
      "print 'We downloaded information on %d firms' % len(results)"
     ],
     "language": "python",
     "metadata": {},
     "outputs": [
      {
       "output_type": "stream",
       "stream": "stdout",
       "text": [
        "We downloaded information on 500 firms\n"
       ]
      }
     ],
     "prompt_number": 13
    },
    {
     "cell_type": "code",
     "collapsed": false,
     "input": [
      "def check_none(f, verbose=0):\n",
      "    if f['permalink'] == None or f['crunchbase_url'] == None or f['name'] == None or len(f['investments']) < 1:\n",
      "        if verbose > 0:\n",
      "            print '\\n%s' % f\n",
      "        return False\n",
      "    else:\n",
      "        return True"
     ],
     "language": "python",
     "metadata": {},
     "outputs": [],
     "prompt_number": 14
    },
    {
     "cell_type": "code",
     "collapsed": false,
     "input": [
      "results = [f for f in results if check_none(f, verbose=0) == True]\n",
      "print 'We retained %d data point after filtering/cleaning' % len(results)\n",
      "\n",
      "# print results"
     ],
     "language": "python",
     "metadata": {},
     "outputs": [
      {
       "output_type": "stream",
       "stream": "stdout",
       "text": [
        "We retained 128 data point after filtering/cleaning\n"
       ]
      }
     ],
     "prompt_number": 15
    },
    {
     "cell_type": "code",
     "collapsed": false,
     "input": [
      "json_data = open('allCompaniesList_2014-04-02-12-47-25.json')\n",
      "all_companies_data = json.load(json_data)\n",
      "json_data.close()"
     ],
     "language": "python",
     "metadata": {},
     "outputs": [],
     "prompt_number": 16
    },
    {
     "cell_type": "code",
     "collapsed": false,
     "input": [
      "all_companies_codes = {}\n",
      "for c in all_companies_data:\n",
      "    all_companies_codes[c['permalink']] = (c['category_code'] if c['category_code'] != None else 'other')\n",
      "                           \n",
      "# print all_companies_codes"
     ],
     "language": "python",
     "metadata": {},
     "outputs": [],
     "prompt_number": 17
    },
    {
     "cell_type": "code",
     "collapsed": false,
     "input": [
      "# adds total number of investments for each firm\n",
      "\n",
      "for n, i in enumerate(results):\n",
      "    results[n]['total'] = len(i['investments'])"
     ],
     "language": "python",
     "metadata": {},
     "outputs": [],
     "prompt_number": 18
    },
    {
     "cell_type": "code",
     "collapsed": false,
     "input": [
      "# adds category codes to all companies\n",
      "\n",
      "for n, i in enumerate(results):\n",
      "    for nn, fr in enumerate(i['investments']):\n",
      "        results[n]['investments'][nn]['funding_round']['company']['category_code'] = (all_companies_codes[fr['funding_round']['company']['permalink']] if fr['funding_round']['company']['permalink'] in all_companies_codes else 'other')\n",
      "        \n",
      "        "
     ],
     "language": "python",
     "metadata": {},
     "outputs": [],
     "prompt_number": 19
    },
    {
     "cell_type": "code",
     "collapsed": false,
     "input": [
      "print results[0]['investments'][0]['funding_round']['company']"
     ],
     "language": "python",
     "metadata": {},
     "outputs": [
      {
       "output_type": "stream",
       "stream": "stdout",
       "text": [
        "{'category_code': u'other', u'permalink': u'friendsurance', u'name': u'Friendsurance'}\n"
       ]
      }
     ],
     "prompt_number": 20
    },
    {
     "cell_type": "code",
     "collapsed": false,
     "input": [
      "# finds all co-occurences\n",
      "\n",
      "for n, i in enumerate(results):\n",
      "    results[n]['cooc'] = {}\n",
      "    for fr in i['investments']:\n",
      "        for ii in results:\n",
      "            for frfr in ii['investments']:\n",
      "                if fr['funding_round'] == frfr['funding_round']:\n",
      "                    results[n]['cooc'][ii['permalink']] = (i['cooc'][ii['permalink']] + 1 if ii['permalink'] in i['cooc'] else 1)"
     ],
     "language": "python",
     "metadata": {},
     "outputs": [],
     "prompt_number": 21
    },
    {
     "cell_type": "code",
     "collapsed": false,
     "input": [
      "# breaks down investments by catagory\n",
      "\n",
      "for n, i in enumerate(results):\n",
      "    results[n]['cat'] = {}\n",
      "    for fr in i['investments']:\n",
      "        results[n]['cat'][fr['funding_round']['company']['category_code']] = (results[n]['cat'][fr['funding_round']['company']['category_code']] + 1 if fr['funding_round']['company']['category_code'] in results[n]['cat'] else 1)\n",
      "        \n",
      "        "
     ],
     "language": "python",
     "metadata": {},
     "outputs": [],
     "prompt_number": 22
    },
    {
     "cell_type": "code",
     "collapsed": false,
     "input": [
      "# breaks down investments by round\n",
      "all_types = []\n",
      "rounds = ['seed', 'a', 'b', 'c', 'd+', 'other']\n",
      "for n, i in enumerate(results):\n",
      "    results[n]['round'] = {}\n",
      "    for r in rounds:\n",
      "        results[n]['round'][r] = 0\n",
      "    for fr in i['investments']:\n",
      "        all_types.append(fr['funding_round']['round_code'])\n",
      "        if  any(fr['funding_round']['round_code'] == r for r in rounds):  \n",
      "            results[n]['round'][fr['funding_round']['round_code']] += 1 \n",
      "        else:\n",
      "            if len(fr['funding_round']['round_code']) == 1:\n",
      "                results[n]['round']['d+'] += 1\n",
      "            else:\n",
      "                results[n]['round']['other'] += 1\n",
      "all_types = set(all_types)\n",
      "        "
     ],
     "language": "python",
     "metadata": {},
     "outputs": [],
     "prompt_number": 23
    },
    {
     "cell_type": "code",
     "collapsed": false,
     "input": [
      "# breaks down investments by year\n",
      "\n",
      "for n, i in enumerate(results):\n",
      "    results[n]['time'] = {}\n",
      "    for fr in i['investments']:\n",
      "        results[n]['time'][fr['funding_round']['funded_year']] = (results[n]['time'][fr['funding_round']['funded_year']] + 1 if fr['funding_round']['funded_year'] in results[n]['time'] else 1)\n",
      "        \n",
      "         "
     ],
     "language": "python",
     "metadata": {},
     "outputs": [],
     "prompt_number": 24
    },
    {
     "cell_type": "code",
     "collapsed": false,
     "input": [
      "num = 1\n",
      "print results[num]['name']\n",
      "print\n",
      "print results[num]['cooc']\n",
      "print\n",
      "print results[num]['cat']\n",
      "print\n",
      "print results[num]['round']\n",
      "print\n",
      "print results[num]['time']"
     ],
     "language": "python",
     "metadata": {},
     "outputs": [
      {
       "output_type": "stream",
       "stream": "stdout",
       "text": [
        "Roynat Equity Partners\n",
        "\n",
        "{u'roynat-equity-partners': 1}\n",
        "\n",
        "{'other': 1}\n",
        "\n",
        "{'a': 0, 'c': 0, 'b': 0, 'd+': 0, 'other': 1, 'seed': 0}\n",
        "\n",
        "{2014: 1}\n"
       ]
      }
     ],
     "prompt_number": 25
    },
    {
     "cell_type": "code",
     "collapsed": false,
     "input": [
      "all_comps = []\n",
      "for i in results:\n",
      "    for fr in i['investments']:\n",
      "        all_comps.append(fr['funding_round']['company']['permalink'])\n",
      "all_comps = set(all_comps)\n",
      "\n",
      "print 'There are %d different companies in our data' % len(all_comps)"
     ],
     "language": "python",
     "metadata": {},
     "outputs": [
      {
       "output_type": "stream",
       "stream": "stdout",
       "text": [
        "There are 139 different companies in our data\n"
       ]
      }
     ],
     "prompt_number": 26
    },
    {
     "cell_type": "code",
     "collapsed": false,
     "input": [
      "# keeps only frims with more than x total investments\n",
      "\n",
      "all_num = [] \n",
      "for i in results:\n",
      "    all_num.append(i['total'])\n",
      "    \n",
      "all_num = sorted(all_num, reverse=True)\n",
      "all_num = all_num[0:5]\n",
      "cut_off_num = all_num[-1]\n",
      "\n",
      "results_out = []\n",
      "for i in results:\n",
      "    if i['total'] >= cut_off_num:\n",
      "        results_out.append(i)\n",
      "\n",
      "# print results_out[2]"
     ],
     "language": "python",
     "metadata": {},
     "outputs": [],
     "prompt_number": 27
    },
    {
     "cell_type": "code",
     "collapsed": false,
     "input": [
      "with open(set_version('allFirms_test', 'json'), 'w') as outfile:\n",
      "    json.dump(results_out, outfile)"
     ],
     "language": "python",
     "metadata": {},
     "outputs": [],
     "prompt_number": 29
    },
    {
     "cell_type": "code",
     "collapsed": false,
     "input": [
      "def merge_file(file1, file2):    \n",
      "    with open(file1, 'r') as content_file1:\n",
      "        content1 = content_file1.read()\n",
      "    \n",
      "    with open(file2, 'r') as content_file2:\n",
      "        content2 = content_file2.read()\n",
      "    \n",
      "    results = content1[:-1] + ',' + content2[1:]\n",
      "    outfile = open(set_version('allFirms', 'json'), 'w')\n",
      "    outfile.write(results)\n",
      "    outfile.close()\n",
      "    \n",
      "# merge_file('allCompanies_2014-04-04-02-37-26.json', 'allCompanies_2014-04-04-02-40-20.json')"
     ],
     "language": "python",
     "metadata": {},
     "outputs": [],
     "prompt_number": 26
    },
    {
     "cell_type": "code",
     "collapsed": false,
     "input": [],
     "language": "python",
     "metadata": {},
     "outputs": []
    }
   ],
   "metadata": {}
  }
 ]
}